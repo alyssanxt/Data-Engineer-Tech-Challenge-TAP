{
 "cells": [
  {
   "cell_type": "code",
   "execution_count": 4,
   "id": "3144a83a",
   "metadata": {},
   "outputs": [],
   "source": [
    "import pandas as pd\n",
    "from sklearn.ensemble import RandomForestClassifier\n",
    "from sklearn.svm import SVC\n",
    "from sklearn.preprocessing import OrdinalEncoder\n",
    "from sklearn.model_selection import train_test_split"
   ]
  },
  {
   "cell_type": "code",
   "execution_count": 5,
   "id": "59bc91af",
   "metadata": {},
   "outputs": [],
   "source": [
    "data = pd.read_csv('car_data.txt', header = None)"
   ]
  },
  {
   "cell_type": "code",
   "execution_count": 6,
   "id": "929b5788",
   "metadata": {},
   "outputs": [],
   "source": [
    "data.head()\n",
    "data.columns = [\"buying\", \"maint\", \"doors\", \"persons\",\"lug_boot\",\"safety\",\"class\"]"
   ]
  },
  {
   "cell_type": "markdown",
   "id": "0b7c9234",
   "metadata": {},
   "source": [
    "# Data Preparation and encoding"
   ]
  },
  {
   "cell_type": "code",
   "execution_count": 7,
   "id": "26e79cf9",
   "metadata": {},
   "outputs": [],
   "source": [
    "y = data[['buying']]\n",
    "data.drop('buying', inplace = True, axis = 1)"
   ]
  },
  {
   "cell_type": "code",
   "execution_count": 8,
   "id": "20d2d6e2",
   "metadata": {},
   "outputs": [],
   "source": [
    "# Independent variable encoder\n",
    "# Each sublist in the categories list represents the ordered categries for the respective column\n",
    "indep_encoder = OrdinalEncoder(categories = [['low','med', 'high', 'vhigh'],['2','3','4','5more'],['small','med','big'],['low','med','high'],['unacc','acc','good','vgood']])\n",
    "\n",
    "X = pd.DataFrame(indep_encoder.fit_transform(data[['maint','doors','lug_boot','safety','class']]))\n",
    "X.columns = [\"maint\", \"doors\",\"lug_boot\",\"safety\", \"class\"]"
   ]
  },
  {
   "cell_type": "code",
   "execution_count": 9,
   "id": "ded12bc5",
   "metadata": {},
   "outputs": [
    {
     "data": {
      "text/html": [
       "<div>\n",
       "<style scoped>\n",
       "    .dataframe tbody tr th:only-of-type {\n",
       "        vertical-align: middle;\n",
       "    }\n",
       "\n",
       "    .dataframe tbody tr th {\n",
       "        vertical-align: top;\n",
       "    }\n",
       "\n",
       "    .dataframe thead th {\n",
       "        text-align: right;\n",
       "    }\n",
       "</style>\n",
       "<table border=\"1\" class=\"dataframe\">\n",
       "  <thead>\n",
       "    <tr style=\"text-align: right;\">\n",
       "      <th></th>\n",
       "      <th>buying</th>\n",
       "    </tr>\n",
       "  </thead>\n",
       "  <tbody>\n",
       "    <tr>\n",
       "      <th>0</th>\n",
       "      <td>3.0</td>\n",
       "    </tr>\n",
       "    <tr>\n",
       "      <th>1</th>\n",
       "      <td>3.0</td>\n",
       "    </tr>\n",
       "    <tr>\n",
       "      <th>2</th>\n",
       "      <td>3.0</td>\n",
       "    </tr>\n",
       "    <tr>\n",
       "      <th>3</th>\n",
       "      <td>3.0</td>\n",
       "    </tr>\n",
       "    <tr>\n",
       "      <th>4</th>\n",
       "      <td>3.0</td>\n",
       "    </tr>\n",
       "  </tbody>\n",
       "</table>\n",
       "</div>"
      ],
      "text/plain": [
       "   buying\n",
       "0     3.0\n",
       "1     3.0\n",
       "2     3.0\n",
       "3     3.0\n",
       "4     3.0"
      ]
     },
     "execution_count": 9,
     "metadata": {},
     "output_type": "execute_result"
    }
   ],
   "source": [
    "# Dependent variable encoder\n",
    "dep_encoder = OrdinalEncoder(categories = [['low','med', 'high', 'vhigh']])\n",
    "y = pd.DataFrame(dep_encoder.fit_transform(y))\n",
    "y.columns = ['buying']\n",
    "y.head()"
   ]
  },
  {
   "cell_type": "code",
   "execution_count": 10,
   "id": "3cb5b2c3",
   "metadata": {},
   "outputs": [],
   "source": [
    "# Creating the training and testing data sets\n",
    "X_train, X_test, y_train, y_test = train_test_split(X,y, test_size = 0.2, shuffle = True)"
   ]
  },
  {
   "cell_type": "code",
   "execution_count": 11,
   "id": "e9675955",
   "metadata": {},
   "outputs": [
    {
     "name": "stderr",
     "output_type": "stream",
     "text": [
      "C:\\Users\\alyss\\anaconda3\\lib\\site-packages\\ipykernel_launcher.py:3: DataConversionWarning: A column-vector y was passed when a 1d array was expected. Please change the shape of y to (n_samples,), for example using ravel().\n",
      "  This is separate from the ipykernel package so we can avoid doing imports until\n"
     ]
    },
    {
     "data": {
      "text/plain": [
       "RandomForestClassifier()"
      ]
     },
     "execution_count": 11,
     "metadata": {},
     "output_type": "execute_result"
    }
   ],
   "source": [
    "# Instantiating a random forest\n",
    "rf = RandomForestClassifier()\n",
    "rf.fit(X_train, y_train)\n"
   ]
  },
  {
   "cell_type": "markdown",
   "id": "7f751ef1",
   "metadata": {},
   "source": [
    "# Prediction"
   ]
  },
  {
   "cell_type": "code",
   "execution_count": 12,
   "id": "b000f55b",
   "metadata": {},
   "outputs": [
    {
     "name": "stderr",
     "output_type": "stream",
     "text": [
      "C:\\Users\\alyss\\anaconda3\\lib\\site-packages\\sklearn\\base.py:451: UserWarning: X does not have valid feature names, but RandomForestClassifier was fitted with feature names\n",
      "  \"X does not have valid feature names, but\"\n"
     ]
    },
    {
     "data": {
      "text/plain": [
       "array([0.])"
      ]
     },
     "execution_count": 12,
     "metadata": {},
     "output_type": "execute_result"
    }
   ],
   "source": [
    "rf.predict([[2.0, 2.0, 2.0, 2.0, 2.0]])\n"
   ]
  },
  {
   "cell_type": "markdown",
   "id": "055390e5",
   "metadata": {},
   "source": [
    "This should be the answer (I believe array[0.] refers to 'low' which is set during \"dep_encoder = OrdinalEncoder(categories = [['low','med', 'high', 'vhigh']])\""
   ]
  },
  {
   "cell_type": "code",
   "execution_count": 13,
   "id": "d36f3990",
   "metadata": {},
   "outputs": [
    {
     "data": {
      "text/plain": [
       "0.4232995658465991"
      ]
     },
     "execution_count": 13,
     "metadata": {},
     "output_type": "execute_result"
    }
   ],
   "source": [
    "rf.score(X_train, y_train)"
   ]
  },
  {
   "cell_type": "code",
   "execution_count": 14,
   "id": "365e8584",
   "metadata": {},
   "outputs": [
    {
     "data": {
      "text/plain": [
       "0.09248554913294797"
      ]
     },
     "execution_count": 14,
     "metadata": {},
     "output_type": "execute_result"
    }
   ],
   "source": [
    "rf.score(X_test, y_test)"
   ]
  },
  {
   "cell_type": "code",
   "execution_count": null,
   "id": "3f965faa",
   "metadata": {},
   "outputs": [],
   "source": []
  }
 ],
 "metadata": {
  "interpreter": {
   "hash": "e3e8b92ae5fad49dd136bf9d3af51c13345356bf7afdb3d85c86e014008da95e"
  },
  "kernelspec": {
   "display_name": "Python 3 (ipykernel)",
   "language": "python",
   "name": "python3"
  },
  "language_info": {
   "codemirror_mode": {
    "name": "ipython",
    "version": 3
   },
   "file_extension": ".py",
   "mimetype": "text/x-python",
   "name": "python",
   "nbconvert_exporter": "python",
   "pygments_lexer": "ipython3",
   "version": "3.7.11"
  }
 },
 "nbformat": 4,
 "nbformat_minor": 5
}
